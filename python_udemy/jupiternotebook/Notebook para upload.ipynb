{
 "cells": [
  {
   "cell_type": "code",
   "execution_count": 8,
   "metadata": {
    "scrolled": false
   },
   "outputs": [
    {
     "name": "stdout",
     "output_type": "stream",
     "text": [
      "Hello world!\n"
     ]
    }
   ],
   "source": [
    "# Live code\n",
    "print('Hello world!')"
   ]
  },
  {
   "cell_type": "markdown",
   "metadata": {},
   "source": [
    "# Markdown - Como formatar seu texto\n",
    "Este será um texto onde posso explicar algo.\n",
    "\n",
    "Abaixo você está vendo um código multilinhas.\n",
    "```\n",
    "if True:\n",
    "    print('Hello world!')\n",
    "```\n",
    "Também pode ser interessante usar uma `palavra` como código.\n",
    "\n",
    "Você pode ter textos em *itálico* ou **negrito**.\n",
    "\n",
    "* Linha 1\n",
    "* Linha 2\n",
    "* Linha aninhada\n",
    "    - Outra coisa\n",
    "    - Mais uma linha\n",
    "* Retornando para lista normal\n",
    "\n",
    "Também pode ter listas enumeradas:\n",
    "1. Linha\n",
    "2. Linha\n",
    "    1. Aninhamento\n",
    "    2. Aninhamento\n",
    "    3. Aninhamento\n",
    "3. Linha\n",
    "4. Linha\n",
    "5. Linha\n",
    "\n",
    "Abaixo uma linha horizontal\n",
    "\n",
    "---\n",
    "\n",
    "Bloco de citação:\n",
    "\n",
    "> Um texto gigante no seu notebook.\n",
    ">\n",
    "> Mais uma linha do texto.\n",
    ">\n",
    "\n",
    "## Outro título\n",
    "\n",
    "Aqui você verá o [link do google](https://www.google.com.br)\n",
    "\n",
    "Abaixo uma tabela HTML:\n",
    "\n",
    "| Aqui temos uma tabela | Com mais uma coluna |\n",
    "|-----------------------|---------------------|\n",
    "| Aqui temos uma linha  | Outra coluna        |\n",
    "| Aqui temos uma linha  | Outra coluna        |\n",
    "| Aqui temos uma linha  | Outra coluna        |\n",
    "| Coluna                | Outra               | \n",
    "\n",
    "Por fim, você pode usar HTML puro também, rsrs.\n",
    "\n",
    "<h1>Isso é um título</h1>\n",
    "<p>Aqui vemos um &lt;p&gt;. Você pode usar qualquer tag HTML normal.\n"
   ]
  },
  {
   "cell_type": "markdown",
   "metadata": {},
   "source": [
    "# Abaixo você verá um vídeo do Youtube\n",
    "Poderia também adicionar um texto explicativo aqui."
   ]
  },
  {
   "cell_type": "code",
   "execution_count": 13,
   "metadata": {
    "scrolled": true
   },
   "outputs": [
    {
     "data": {
      "text/html": [
       "<h1>Vídeo do youtube</h1>\n",
       "<iframe width=\"560\" height=\"315\" src=\"https://www.youtube.com/embed/bVMUGEEgEbg\" frameborder=\"0\"></iframe>\n"
      ],
      "text/plain": [
       "<IPython.core.display.HTML object>"
      ]
     },
     "metadata": {},
     "output_type": "display_data"
    }
   ],
   "source": [
    "%%HTML\n",
    "<h1>Vídeo do youtube</h1>\n",
    "<iframe width=\"560\" height=\"315\" src=\"https://www.youtube.com/embed/bVMUGEEgEbg\" frameborder=\"0\"></iframe>"
   ]
  },
  {
   "cell_type": "markdown",
   "metadata": {},
   "source": [
    "# Criando uma classe Python"
   ]
  },
  {
   "cell_type": "code",
   "execution_count": 10,
   "metadata": {},
   "outputs": [],
   "source": [
    "class Cliente:\n",
    "    def __init__(self, nome, sobrenome):\n",
    "        self.nome = nome\n",
    "        self.sobrenome = sobrenome\n",
    "        \n",
    "    def mostra_detalhes(self):\n",
    "        print(self.nome)\n",
    "        print(self.sobrenome)"
   ]
  },
  {
   "cell_type": "code",
   "execution_count": 11,
   "metadata": {},
   "outputs": [
    {
     "name": "stdout",
     "output_type": "stream",
     "text": [
      "Luiz Otávio\n",
      "Miranda\n"
     ]
    }
   ],
   "source": [
    "cliente = Cliente('Luiz Otávio', 'Miranda')\n",
    "cliente.mostra_detalhes()"
   ]
  },
  {
   "cell_type": "code",
   "execution_count": 12,
   "metadata": {},
   "outputs": [],
   "source": [
    "import main"
   ]
  },
  {
   "cell_type": "markdown",
   "metadata": {},
   "source": [
    "# Comandos do sistema"
   ]
  },
  {
   "cell_type": "code",
   "execution_count": 14,
   "metadata": {},
   "outputs": [
    {
     "name": "stdout",
     "output_type": "stream",
     "text": [
      "\n",
      "Pinging 127.0.0.1 with 32 bytes of data:\n",
      "Reply from 127.0.0.1: bytes=32 time<1ms TTL=128\n",
      "Reply from 127.0.0.1: bytes=32 time<1ms TTL=128\n",
      "Reply from 127.0.0.1: bytes=32 time<1ms TTL=128\n",
      "Reply from 127.0.0.1: bytes=32 time<1ms TTL=128\n",
      "\n",
      "Ping statistics for 127.0.0.1:\n",
      "    Packets: Sent = 4, Received = 4, Lost = 0 (0% loss),\n",
      "Approximate round trip times in milli-seconds:\n",
      "    Minimum = 0ms, Maximum = 0ms, Average = 0ms\n"
     ]
    }
   ],
   "source": [
    "!ping 127.0.0.1"
   ]
  },
  {
   "cell_type": "markdown",
   "metadata": {},
   "source": [
    "# Gráficos"
   ]
  },
  {
   "cell_type": "code",
   "execution_count": 8,
   "metadata": {},
   "outputs": [
    {
     "data": {
      "image/png": "[encoded data removed]",
      "text/plain": [
       "<Figure size 432x288 with 1 Axes>"
      ]
     },
     "metadata": {
      "needs_background": "light"
     },
     "output_type": "display_data"
    }
   ],
   "source": [
    "import matplotlib.path as mpath\n",
    "import matplotlib.patches as mpatches\n",
    "import matplotlib.pyplot as plt\n",
    "\n",
    "\n",
    "fig, ax = plt.subplots()\n",
    "\n",
    "Path = mpath.Path\n",
    "path_data = [\n",
    "    (Path.MOVETO, (1.58, -2.57)),\n",
    "    (Path.CURVE4, (0.35, -1.1)),\n",
    "    (Path.CURVE4, (-1.75, 2.0)),\n",
    "    (Path.CURVE4, (0.375, 2.0)),\n",
    "    (Path.LINETO, (0.85, 1.15)),\n",
    "    (Path.CURVE4, (2.2, 3.2)),\n",
    "    (Path.CURVE4, (3, 0.05)),\n",
    "    (Path.CURVE4, (2.2, -0.5)),\n",
    "    (Path.CLOSEPOLY, (1.58, -2.57)),\n",
    "    ]\n",
    "codes, verts = zip(*path_data)\n",
    "path = mpath.Path(verts, codes)\n",
    "patch = mpatches.PathPatch(path, facecolor='r', alpha=0.5)\n",
    "ax.add_patch(patch)\n",
    "\n",
    "# plot control points and connecting lines\n",
    "x, y = zip(*path.vertices)\n",
    "line, = ax.plot(x, y, 'go-')\n",
    "\n",
    "ax.grid()\n",
    "ax.axis('equal')\n",
    "plt.show()"
   ]
  },
  {
   "cell_type": "code",
   "execution_count": 25,
   "metadata": {},
   "outputs": [
    {
     "name": "stdout",
     "output_type": "stream",
     "text": [
      "5.73 ms ± 279 µs per loop (mean ± std. dev. of 7 runs, 100 loops each)\n"
     ]
    }
   ],
   "source": [
    "%%timeit\n",
    "lista = [x * 2 for x in range(100000)]"
   ]
  },
  {
   "cell_type": "markdown",
   "metadata": {},
   "source": [
    "# Exibindo Pandas Dataframe"
   ]
  },
  {
   "cell_type": "code",
   "execution_count": 5,
   "metadata": {},
   "outputs": [
    {
     "data": {
      "text/html": [
       "<div>\n",
       "<style scoped>\n",
       "    .dataframe tbody tr th:only-of-type {\n",
       "        vertical-align: middle;\n",
       "    }\n",
       "\n",
       "    .dataframe tbody tr th {\n",
       "        vertical-align: top;\n",
       "    }\n",
       "\n",
       "    .dataframe thead th {\n",
       "        text-align: right;\n",
       "    }\n",
       "</style>\n",
       "<table border=\"1\" class=\"dataframe\">\n",
       "  <thead>\n",
       "    <tr style=\"text-align: right;\">\n",
       "      <th></th>\n",
       "      <th>0</th>\n",
       "      <th>1</th>\n",
       "      <th>2</th>\n",
       "      <th>3</th>\n",
       "      <th>4</th>\n",
       "    </tr>\n",
       "  </thead>\n",
       "  <tbody>\n",
       "    <tr>\n",
       "      <th>0</th>\n",
       "      <td>-2.075277</td>\n",
       "      <td>1.752085</td>\n",
       "      <td>0.838770</td>\n",
       "      <td>-0.209180</td>\n",
       "      <td>0.258231</td>\n",
       "    </tr>\n",
       "    <tr>\n",
       "      <th>1</th>\n",
       "      <td>0.433439</td>\n",
       "      <td>1.624955</td>\n",
       "      <td>0.120887</td>\n",
       "      <td>0.586563</td>\n",
       "      <td>0.491097</td>\n",
       "    </tr>\n",
       "    <tr>\n",
       "      <th>2</th>\n",
       "      <td>-0.030280</td>\n",
       "      <td>0.165714</td>\n",
       "      <td>-0.506688</td>\n",
       "      <td>0.952920</td>\n",
       "      <td>0.363747</td>\n",
       "    </tr>\n",
       "    <tr>\n",
       "      <th>3</th>\n",
       "      <td>0.871993</td>\n",
       "      <td>2.353810</td>\n",
       "      <td>-0.878148</td>\n",
       "      <td>-1.172836</td>\n",
       "      <td>-0.820668</td>\n",
       "    </tr>\n",
       "    <tr>\n",
       "      <th>4</th>\n",
       "      <td>-1.064782</td>\n",
       "      <td>0.792264</td>\n",
       "      <td>-0.993976</td>\n",
       "      <td>1.488700</td>\n",
       "      <td>-1.263263</td>\n",
       "    </tr>\n",
       "    <tr>\n",
       "      <th>5</th>\n",
       "      <td>-1.064545</td>\n",
       "      <td>-1.456951</td>\n",
       "      <td>-0.908104</td>\n",
       "      <td>-1.738545</td>\n",
       "      <td>-2.558423</td>\n",
       "    </tr>\n",
       "    <tr>\n",
       "      <th>6</th>\n",
       "      <td>0.066017</td>\n",
       "      <td>-0.564587</td>\n",
       "      <td>1.905505</td>\n",
       "      <td>-0.120244</td>\n",
       "      <td>-0.872638</td>\n",
       "    </tr>\n",
       "    <tr>\n",
       "      <th>7</th>\n",
       "      <td>0.931748</td>\n",
       "      <td>-0.362934</td>\n",
       "      <td>2.179695</td>\n",
       "      <td>0.131485</td>\n",
       "      <td>0.218803</td>\n",
       "    </tr>\n",
       "    <tr>\n",
       "      <th>8</th>\n",
       "      <td>-1.748548</td>\n",
       "      <td>-1.043947</td>\n",
       "      <td>-2.163133</td>\n",
       "      <td>-0.033816</td>\n",
       "      <td>2.338527</td>\n",
       "    </tr>\n",
       "    <tr>\n",
       "      <th>9</th>\n",
       "      <td>0.424638</td>\n",
       "      <td>0.385122</td>\n",
       "      <td>-0.740695</td>\n",
       "      <td>-0.383836</td>\n",
       "      <td>0.624776</td>\n",
       "    </tr>\n",
       "    <tr>\n",
       "      <th>10</th>\n",
       "      <td>1.751345</td>\n",
       "      <td>2.036784</td>\n",
       "      <td>0.446071</td>\n",
       "      <td>0.246065</td>\n",
       "      <td>-3.360553</td>\n",
       "    </tr>\n",
       "    <tr>\n",
       "      <th>11</th>\n",
       "      <td>0.316287</td>\n",
       "      <td>-0.901026</td>\n",
       "      <td>0.149502</td>\n",
       "      <td>0.479656</td>\n",
       "      <td>-0.279548</td>\n",
       "    </tr>\n",
       "    <tr>\n",
       "      <th>12</th>\n",
       "      <td>-1.395690</td>\n",
       "      <td>-0.995630</td>\n",
       "      <td>-0.118895</td>\n",
       "      <td>-1.148144</td>\n",
       "      <td>-0.755968</td>\n",
       "    </tr>\n",
       "    <tr>\n",
       "      <th>13</th>\n",
       "      <td>1.549496</td>\n",
       "      <td>0.579869</td>\n",
       "      <td>-0.384332</td>\n",
       "      <td>-1.107868</td>\n",
       "      <td>-0.689077</td>\n",
       "    </tr>\n",
       "    <tr>\n",
       "      <th>14</th>\n",
       "      <td>0.478692</td>\n",
       "      <td>0.344687</td>\n",
       "      <td>0.110858</td>\n",
       "      <td>1.424895</td>\n",
       "      <td>0.325160</td>\n",
       "    </tr>\n",
       "    <tr>\n",
       "      <th>15</th>\n",
       "      <td>0.160415</td>\n",
       "      <td>1.209397</td>\n",
       "      <td>0.500990</td>\n",
       "      <td>-1.307822</td>\n",
       "      <td>0.377728</td>\n",
       "    </tr>\n",
       "    <tr>\n",
       "      <th>16</th>\n",
       "      <td>-1.419775</td>\n",
       "      <td>0.542807</td>\n",
       "      <td>1.925569</td>\n",
       "      <td>0.054372</td>\n",
       "      <td>-0.343171</td>\n",
       "    </tr>\n",
       "    <tr>\n",
       "      <th>17</th>\n",
       "      <td>-1.734001</td>\n",
       "      <td>1.286108</td>\n",
       "      <td>2.287894</td>\n",
       "      <td>-0.686110</td>\n",
       "      <td>-0.003671</td>\n",
       "    </tr>\n",
       "  </tbody>\n",
       "</table>\n",
       "</div>"
      ],
      "text/plain": [
       "           0         1         2         3         4\n",
       "0  -2.075277  1.752085  0.838770 -0.209180  0.258231\n",
       "1   0.433439  1.624955  0.120887  0.586563  0.491097\n",
       "2  -0.030280  0.165714 -0.506688  0.952920  0.363747\n",
       "3   0.871993  2.353810 -0.878148 -1.172836 -0.820668\n",
       "4  -1.064782  0.792264 -0.993976  1.488700 -1.263263\n",
       "5  -1.064545 -1.456951 -0.908104 -1.738545 -2.558423\n",
       "6   0.066017 -0.564587  1.905505 -0.120244 -0.872638\n",
       "7   0.931748 -0.362934  2.179695  0.131485  0.218803\n",
       "8  -1.748548 -1.043947 -2.163133 -0.033816  2.338527\n",
       "9   0.424638  0.385122 -0.740695 -0.383836  0.624776\n",
       "10  1.751345  2.036784  0.446071  0.246065 -3.360553\n",
       "11  0.316287 -0.901026  0.149502  0.479656 -0.279548\n",
       "12 -1.395690 -0.995630 -0.118895 -1.148144 -0.755968\n",
       "13  1.549496  0.579869 -0.384332 -1.107868 -0.689077\n",
       "14  0.478692  0.344687  0.110858  1.424895  0.325160\n",
       "15  0.160415  1.209397  0.500990 -1.307822  0.377728\n",
       "16 -1.419775  0.542807  1.925569  0.054372 -0.343171\n",
       "17 -1.734001  1.286108  2.287894 -0.686110 -0.003671"
      ]
     },
     "execution_count": 5,
     "metadata": {},
     "output_type": "execute_result"
    }
   ],
   "source": [
    "import pandas as pd\n",
    "import numpy as np\n",
    "\n",
    "df = pd.DataFrame(np.random.randn(18,5))\n",
    "df"
   ]
  },
  {
   "cell_type": "code",
   "execution_count": null,
   "metadata": {},
   "outputs": [],
   "source": []
  }
 ],
 "metadata": {
  "kernelspec": {
   "display_name": "Python 3 (ipykernel)",
   "language": "python",
   "name": "python3"
  },
  "language_info": {
   "codemirror_mode": {
    "name": "ipython",
    "version": 3
   },
   "file_extension": ".py",
   "mimetype": "text/x-python",
   "name": "python",
   "nbconvert_exporter": "python",
   "pygments_lexer": "ipython3",
   "version": "3.10.3"
  }
 },
 "nbformat": 4,
 "nbformat_minor": 2
}
